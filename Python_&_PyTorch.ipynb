{
  "nbformat": 4,
  "nbformat_minor": 0,
  "metadata": {
    "colab": {
      "provenance": [],
      "toc_visible": true,
      "authorship_tag": "ABX9TyOYUBI07TDKAT1l5zmv8Atj",
      "include_colab_link": true
    },
    "kernelspec": {
      "name": "python3",
      "display_name": "Python 3"
    },
    "language_info": {
      "name": "python"
    }
  },
  "cells": [
    {
      "cell_type": "markdown",
      "metadata": {
        "id": "view-in-github",
        "colab_type": "text"
      },
      "source": [
        "<a href=\"https://colab.research.google.com/github/sauravsavarn/DeepLearning-ML-with-PyTorch/blob/master/Python_%26_PyTorch.ipynb\" target=\"_parent\"><img src=\"https://colab.research.google.com/assets/colab-badge.svg\" alt=\"Open In Colab\"/></a>"
      ]
    },
    {
      "cell_type": "code",
      "execution_count": null,
      "metadata": {
        "id": "djmfqVVDntzL"
      },
      "outputs": [],
      "source": []
    },
    {
      "cell_type": "markdown",
      "source": [
        "# PyTorch Fundamentals"
      ],
      "metadata": {
        "id": "vTPbGrkznzrl"
      }
    },
    {
      "cell_type": "markdown",
      "source": [
        "## Print PyTorch Version"
      ],
      "metadata": {
        "id": "dQlh6ckHoOHn"
      }
    },
    {
      "cell_type": "code",
      "source": [
        "import torch\n",
        "print(torch.__version__)"
      ],
      "metadata": {
        "colab": {
          "base_uri": "https://localhost:8080/"
        },
        "id": "bhWBzbCooOuh",
        "outputId": "f5fc39e2-6774-431d-92de-cc36108aebd9"
      },
      "execution_count": null,
      "outputs": [
        {
          "output_type": "stream",
          "name": "stdout",
          "text": [
            "2.2.1+cu121\n"
          ]
        }
      ]
    },
    {
      "cell_type": "markdown",
      "source": [
        "## Print pandas, numpy, matplotlib & python version"
      ],
      "metadata": {
        "id": "H8wfo1yJoqNZ"
      }
    },
    {
      "cell_type": "code",
      "source": [
        "import sys\n",
        "import pandas as pa\n",
        "import numpy as np\n",
        "import matplotlib as plt\n",
        "import pip as pip\n",
        "\n",
        "print(\"python version : \", sys.version)\n",
        "print(\"pandas version : \", pa.__version__)\n",
        "print(\"numpy version : \", np.__version__)\n",
        "print(\"matplotlib version : \", plt.__version__)\n",
        "print(\"pip version : \", pip.__version__)"
      ],
      "metadata": {
        "colab": {
          "base_uri": "https://localhost:8080/"
        },
        "id": "yOKV_Rvuo9ys",
        "outputId": "4ca10f68-ffcf-4b97-93fa-0c7d4a25748f"
      },
      "execution_count": null,
      "outputs": [
        {
          "output_type": "stream",
          "name": "stdout",
          "text": [
            "python version :  3.10.12 (main, Nov 20 2023, 15:14:05) [GCC 11.4.0]\n",
            "pandas version :  1.5.3\n",
            "numpy version :  1.25.2\n",
            "matplotlib version :  3.7.1\n",
            "pip version :  23.1.2\n"
          ]
        },
        {
          "output_type": "stream",
          "name": "stderr",
          "text": [
            "/usr/local/lib/python3.10/dist-packages/_distutils_hack/__init__.py:33: UserWarning: Setuptools is replacing distutils.\n",
            "  warnings.warn(\"Setuptools is replacing distutils.\")\n"
          ]
        }
      ]
    }
  ]
}